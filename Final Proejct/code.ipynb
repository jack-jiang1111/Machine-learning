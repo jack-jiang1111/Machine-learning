{
  "nbformat": 4,
  "nbformat_minor": 0,
  "metadata": {
    "colab": {
      "provenance": []
    },
    "kernelspec": {
      "name": "python3",
      "display_name": "Python 3"
    },
    "language_info": {
      "name": "python"
    },
    "gpuClass": "standard"
  },
  "cells": [
    {
      "cell_type": "code",
      "source": [
        "# data analysis and wrangling\n",
        "import pandas as pd\n",
        "import numpy as np\n",
        "import random as rnd\n",
        "\n",
        "# visualization\n",
        "import seaborn as sns\n",
        "import matplotlib.pyplot as plt\n",
        "%matplotlib inline\n",
        "\n",
        "# machine learning\n",
        "from sklearn.linear_model import LogisticRegression\n",
        "from sklearn.svm import SVC, LinearSVC\n",
        "from sklearn.ensemble import RandomForestClassifier\n",
        "from sklearn.neighbors import KNeighborsClassifier\n",
        "from sklearn.naive_bayes import GaussianNB\n",
        "from sklearn.linear_model import Perceptron\n",
        "from sklearn.linear_model import SGDClassifier\n",
        "from sklearn.tree import DecisionTreeClassifier\n",
        "from sklearn.svm import SVC\n",
        "from sklearn.ensemble import BaggingClassifier\n",
        "from sklearn.datasets import make_classification\n",
        "from sklearn.model_selection import cross_validate\n",
        "from sklearn.model_selection import cross_val_score\n",
        "from sklearn.ensemble import GradientBoostingClassifier\n",
        "from sklearn.ensemble import BaggingClassifier\n",
        "from sklearn.preprocessing import StandardScaler\n",
        "from sklearn.model_selection import train_test_split\n",
        "from sklearn import metrics\n",
        "from sklearn.naive_bayes import GaussianNB\n",
        "from sklearn.tree import DecisionTreeClassifier\n",
        "from sklearn.ensemble import RandomForestClassifier\n",
        "from sklearn.neighbors import KNeighborsClassifier\n",
        "from sklearn.linear_model import LogisticRegression\n",
        "from sklearn.svm import SVC\n",
        "import xgboost as xgb \n",
        "from sklearn.model_selection import GridSearchCV\n",
        "from sklearn.model_selection import RandomizedSearchCV"
      ],
      "metadata": {
        "id": "PpECnfdjMvvp"
      },
      "execution_count": null,
      "outputs": []
    },
    {
      "cell_type": "code",
      "source": [
        "trainPath = \"train_final.csv\"\n",
        "testPath = \"test_final.csv\"\n",
        "validationPath = \"validation_final.csv\"\n",
        "sourcePath = \"source.csv\"\n",
        "\n",
        "train = \"train.csv\"\n",
        "\n",
        "train_df = pd.read_csv(trainPath)\n",
        "test_df = pd.read_csv(testPath)\n",
        "combine = [train_df,test_df]"
      ],
      "metadata": {
        "id": "9hqDA5c6M30-"
      },
      "execution_count": null,
      "outputs": []
    },
    {
      "cell_type": "code",
      "source": [
        "def submit(pred):\n",
        "  submission = pd.DataFrame({\n",
        "        \"Prediction\": pred\n",
        "    })\n",
        "  submission.to_csv('submission.csv', index=False)"
      ],
      "metadata": {
        "id": "f64ZBBnYdOfx"
      },
      "execution_count": null,
      "outputs": []
    },
    {
      "cell_type": "code",
      "source": [
        "# preview the data\n",
        "train_df.head()"
      ],
      "metadata": {
        "colab": {
          "base_uri": "https://localhost:8080/",
          "height": 357
        },
        "id": "ieDMsIWCOK5h",
        "outputId": "dd1e4da1-3073-4048-80c1-b3b0da427a61"
      },
      "execution_count": null,
      "outputs": [
        {
          "output_type": "execute_result",
          "data": {
            "text/plain": [
              "   age         workclass  fnlwgt    education  education.num  \\\n",
              "0   53  Self-emp-not-inc   93449  Prof-school             15   \n",
              "1   33  Self-emp-not-inc  123424    Bachelors             13   \n",
              "2   47           Private  144844      HS-grad              9   \n",
              "3   40           Private  114580      HS-grad              9   \n",
              "4   39           Private  115618      HS-grad              9   \n",
              "\n",
              "       marital.status        occupation    relationship                race  \\\n",
              "0  Married-civ-spouse    Prof-specialty         Husband  Asian-Pac-Islander   \n",
              "1  Married-civ-spouse   Exec-managerial         Husband               White   \n",
              "2  Married-civ-spouse      Craft-repair         Husband               White   \n",
              "3            Divorced      Craft-repair  Other-relative               White   \n",
              "4  Married-civ-spouse  Transport-moving         Husband               White   \n",
              "\n",
              "      sex  capital.gain  capital.loss  hours.per.week native.country  \\\n",
              "0    Male             0             0              40          India   \n",
              "1    Male             0             0              40  United-States   \n",
              "2    Male             0             0              40  United-States   \n",
              "3  Female             0             0              40        Vietnam   \n",
              "4    Male             0             0              50  United-States   \n",
              "\n",
              "   income>50K  \n",
              "0           1  \n",
              "1           1  \n",
              "2           0  \n",
              "3           0  \n",
              "4           0  "
            ],
            "text/html": [
              "\n",
              "  <div id=\"df-49a82120-ca1c-4289-aa62-896dbe0d337a\">\n",
              "    <div class=\"colab-df-container\">\n",
              "      <div>\n",
              "<style scoped>\n",
              "    .dataframe tbody tr th:only-of-type {\n",
              "        vertical-align: middle;\n",
              "    }\n",
              "\n",
              "    .dataframe tbody tr th {\n",
              "        vertical-align: top;\n",
              "    }\n",
              "\n",
              "    .dataframe thead th {\n",
              "        text-align: right;\n",
              "    }\n",
              "</style>\n",
              "<table border=\"1\" class=\"dataframe\">\n",
              "  <thead>\n",
              "    <tr style=\"text-align: right;\">\n",
              "      <th></th>\n",
              "      <th>age</th>\n",
              "      <th>workclass</th>\n",
              "      <th>fnlwgt</th>\n",
              "      <th>education</th>\n",
              "      <th>education.num</th>\n",
              "      <th>marital.status</th>\n",
              "      <th>occupation</th>\n",
              "      <th>relationship</th>\n",
              "      <th>race</th>\n",
              "      <th>sex</th>\n",
              "      <th>capital.gain</th>\n",
              "      <th>capital.loss</th>\n",
              "      <th>hours.per.week</th>\n",
              "      <th>native.country</th>\n",
              "      <th>income&gt;50K</th>\n",
              "    </tr>\n",
              "  </thead>\n",
              "  <tbody>\n",
              "    <tr>\n",
              "      <th>0</th>\n",
              "      <td>53</td>\n",
              "      <td>Self-emp-not-inc</td>\n",
              "      <td>93449</td>\n",
              "      <td>Prof-school</td>\n",
              "      <td>15</td>\n",
              "      <td>Married-civ-spouse</td>\n",
              "      <td>Prof-specialty</td>\n",
              "      <td>Husband</td>\n",
              "      <td>Asian-Pac-Islander</td>\n",
              "      <td>Male</td>\n",
              "      <td>0</td>\n",
              "      <td>0</td>\n",
              "      <td>40</td>\n",
              "      <td>India</td>\n",
              "      <td>1</td>\n",
              "    </tr>\n",
              "    <tr>\n",
              "      <th>1</th>\n",
              "      <td>33</td>\n",
              "      <td>Self-emp-not-inc</td>\n",
              "      <td>123424</td>\n",
              "      <td>Bachelors</td>\n",
              "      <td>13</td>\n",
              "      <td>Married-civ-spouse</td>\n",
              "      <td>Exec-managerial</td>\n",
              "      <td>Husband</td>\n",
              "      <td>White</td>\n",
              "      <td>Male</td>\n",
              "      <td>0</td>\n",
              "      <td>0</td>\n",
              "      <td>40</td>\n",
              "      <td>United-States</td>\n",
              "      <td>1</td>\n",
              "    </tr>\n",
              "    <tr>\n",
              "      <th>2</th>\n",
              "      <td>47</td>\n",
              "      <td>Private</td>\n",
              "      <td>144844</td>\n",
              "      <td>HS-grad</td>\n",
              "      <td>9</td>\n",
              "      <td>Married-civ-spouse</td>\n",
              "      <td>Craft-repair</td>\n",
              "      <td>Husband</td>\n",
              "      <td>White</td>\n",
              "      <td>Male</td>\n",
              "      <td>0</td>\n",
              "      <td>0</td>\n",
              "      <td>40</td>\n",
              "      <td>United-States</td>\n",
              "      <td>0</td>\n",
              "    </tr>\n",
              "    <tr>\n",
              "      <th>3</th>\n",
              "      <td>40</td>\n",
              "      <td>Private</td>\n",
              "      <td>114580</td>\n",
              "      <td>HS-grad</td>\n",
              "      <td>9</td>\n",
              "      <td>Divorced</td>\n",
              "      <td>Craft-repair</td>\n",
              "      <td>Other-relative</td>\n",
              "      <td>White</td>\n",
              "      <td>Female</td>\n",
              "      <td>0</td>\n",
              "      <td>0</td>\n",
              "      <td>40</td>\n",
              "      <td>Vietnam</td>\n",
              "      <td>0</td>\n",
              "    </tr>\n",
              "    <tr>\n",
              "      <th>4</th>\n",
              "      <td>39</td>\n",
              "      <td>Private</td>\n",
              "      <td>115618</td>\n",
              "      <td>HS-grad</td>\n",
              "      <td>9</td>\n",
              "      <td>Married-civ-spouse</td>\n",
              "      <td>Transport-moving</td>\n",
              "      <td>Husband</td>\n",
              "      <td>White</td>\n",
              "      <td>Male</td>\n",
              "      <td>0</td>\n",
              "      <td>0</td>\n",
              "      <td>50</td>\n",
              "      <td>United-States</td>\n",
              "      <td>0</td>\n",
              "    </tr>\n",
              "  </tbody>\n",
              "</table>\n",
              "</div>\n",
              "      <button class=\"colab-df-convert\" onclick=\"convertToInteractive('df-49a82120-ca1c-4289-aa62-896dbe0d337a')\"\n",
              "              title=\"Convert this dataframe to an interactive table.\"\n",
              "              style=\"display:none;\">\n",
              "        \n",
              "  <svg xmlns=\"http://www.w3.org/2000/svg\" height=\"24px\"viewBox=\"0 0 24 24\"\n",
              "       width=\"24px\">\n",
              "    <path d=\"M0 0h24v24H0V0z\" fill=\"none\"/>\n",
              "    <path d=\"M18.56 5.44l.94 2.06.94-2.06 2.06-.94-2.06-.94-.94-2.06-.94 2.06-2.06.94zm-11 1L8.5 8.5l.94-2.06 2.06-.94-2.06-.94L8.5 2.5l-.94 2.06-2.06.94zm10 10l.94 2.06.94-2.06 2.06-.94-2.06-.94-.94-2.06-.94 2.06-2.06.94z\"/><path d=\"M17.41 7.96l-1.37-1.37c-.4-.4-.92-.59-1.43-.59-.52 0-1.04.2-1.43.59L10.3 9.45l-7.72 7.72c-.78.78-.78 2.05 0 2.83L4 21.41c.39.39.9.59 1.41.59.51 0 1.02-.2 1.41-.59l7.78-7.78 2.81-2.81c.8-.78.8-2.07 0-2.86zM5.41 20L4 18.59l7.72-7.72 1.47 1.35L5.41 20z\"/>\n",
              "  </svg>\n",
              "      </button>\n",
              "      \n",
              "  <style>\n",
              "    .colab-df-container {\n",
              "      display:flex;\n",
              "      flex-wrap:wrap;\n",
              "      gap: 12px;\n",
              "    }\n",
              "\n",
              "    .colab-df-convert {\n",
              "      background-color: #E8F0FE;\n",
              "      border: none;\n",
              "      border-radius: 50%;\n",
              "      cursor: pointer;\n",
              "      display: none;\n",
              "      fill: #1967D2;\n",
              "      height: 32px;\n",
              "      padding: 0 0 0 0;\n",
              "      width: 32px;\n",
              "    }\n",
              "\n",
              "    .colab-df-convert:hover {\n",
              "      background-color: #E2EBFA;\n",
              "      box-shadow: 0px 1px 2px rgba(60, 64, 67, 0.3), 0px 1px 3px 1px rgba(60, 64, 67, 0.15);\n",
              "      fill: #174EA6;\n",
              "    }\n",
              "\n",
              "    [theme=dark] .colab-df-convert {\n",
              "      background-color: #3B4455;\n",
              "      fill: #D2E3FC;\n",
              "    }\n",
              "\n",
              "    [theme=dark] .colab-df-convert:hover {\n",
              "      background-color: #434B5C;\n",
              "      box-shadow: 0px 1px 3px 1px rgba(0, 0, 0, 0.15);\n",
              "      filter: drop-shadow(0px 1px 2px rgba(0, 0, 0, 0.3));\n",
              "      fill: #FFFFFF;\n",
              "    }\n",
              "  </style>\n",
              "\n",
              "      <script>\n",
              "        const buttonEl =\n",
              "          document.querySelector('#df-49a82120-ca1c-4289-aa62-896dbe0d337a button.colab-df-convert');\n",
              "        buttonEl.style.display =\n",
              "          google.colab.kernel.accessAllowed ? 'block' : 'none';\n",
              "\n",
              "        async function convertToInteractive(key) {\n",
              "          const element = document.querySelector('#df-49a82120-ca1c-4289-aa62-896dbe0d337a');\n",
              "          const dataTable =\n",
              "            await google.colab.kernel.invokeFunction('convertToInteractive',\n",
              "                                                     [key], {});\n",
              "          if (!dataTable) return;\n",
              "\n",
              "          const docLinkHtml = 'Like what you see? Visit the ' +\n",
              "            '<a target=\"_blank\" href=https://colab.research.google.com/notebooks/data_table.ipynb>data table notebook</a>'\n",
              "            + ' to learn more about interactive tables.';\n",
              "          element.innerHTML = '';\n",
              "          dataTable['output_type'] = 'display_data';\n",
              "          await google.colab.output.renderOutput(dataTable, element);\n",
              "          const docLink = document.createElement('div');\n",
              "          docLink.innerHTML = docLinkHtml;\n",
              "          element.appendChild(docLink);\n",
              "        }\n",
              "      </script>\n",
              "    </div>\n",
              "  </div>\n",
              "  "
            ]
          },
          "metadata": {},
          "execution_count": 25
        }
      ]
    },
    {
      "cell_type": "markdown",
      "source": [
        "## Mapping discrete variable"
      ],
      "metadata": {
        "id": "IQg65wjBKRhC"
      }
    },
    {
      "cell_type": "code",
      "source": [
        "workclass_mapping = {\"Self-emp-not-inc\": 1, \"Federal-gov\": 2, \"Private\": 3, \"Local-gov\": 4, \"State-gov\": 5,\"Never-worked\":6,\"Self-emp-inc\": 7,\"Without-pay\":8,\"?\":0}\n",
        "race_mapping = {\"White\":1 ,\"Black\":2,\"Asian-Pac-Islander\":3,\"Other\":4,\"Amer-Indian-Eskimo\":5,\"?\":6}\n",
        "education_mapping = {\"Prof-school\": 1,\n",
        "                     \"Bachelors\": 2,\n",
        "                     \"HS-grad\": 3,\n",
        "                     \"Doctorate\": 4,\n",
        "                     \"Masters\": 5,\n",
        "                     \"Some-college\":6,\n",
        "                     \"11th\": 7,\n",
        "                     \"12th\":8,\n",
        "                     \"5th-6th\":9,\n",
        "                     \"Assoc-acdm\":10,\n",
        "                     \"9th\":11,\n",
        "                     \"Preschool\":12,\n",
        "                     \"Assoc-voc\":13,\n",
        "                     \"7th-8th\":14,\n",
        "                     \"10th\":15,\n",
        "                     \"1st-4th\":16\n",
        "                     }\n",
        "marital_mapping = {\"Married-civ-spouse\": 1,\n",
        "                     \"Divorced\": 2,\n",
        "                     \"Never-married\": 3,\n",
        "                     \"Married-spouse-absent\": 4,\n",
        "                     \"Widowed\": 5,\n",
        "                     \"Separated\":6,\n",
        "                     \"Married-AF-spouse\": 7,\n",
        "                     }\n",
        "occupation_mapping = {\"Prof-specialty\": 1,\n",
        "                     \"Exec-managerial\": 2,\n",
        "                     \"Transport-moving\": 3,\n",
        "                     \"Other-service\": 4,\n",
        "                     \"Machine-op-inspct\": 5,\n",
        "                     \"Adm-clerical\":6,\n",
        "                     \"Sales\": 7,\n",
        "                     \"Handlers-cleaners\":8,\n",
        "                      \"Craft-repair\":9,\n",
        "                      \"Farming-fishing\":10,\n",
        "                      \"Tech-support\":11,\n",
        "                      \"Priv-house-serv\":12,\n",
        "                      \"Protective-serv\":13,\n",
        "                      \"Armed-Forces\":14,\n",
        "                      \"?\":0\n",
        "                     }\n",
        "sex_mapping = {\"Male\":1,\n",
        "               \"Female\":2\n",
        "              }\n",
        "# classfied countries list into sevearl categories:\n",
        "# Highly developed countries: \n",
        "# Middle level developed countries\n",
        "# Other developed cpuntries\n",
        "# developing countries\n",
        "native_country_mapping = {\n",
        "\"United-States\":1,\n",
        "\"Ireland\":1,\n",
        "\"Hong\":1,\n",
        "\"Canada\":1,\n",
        "\"Italy\":1,\n",
        "\"Germany\":1,\n",
        "\"England\":1,\n",
        "\"Japan\":1,\n",
        "\"France\":1,\n",
        "\"Outlying-US(Guam-USVI-etc)\":1,\n",
        "\"Scotland\":1,\n",
        "\n",
        "\"Greece\":2,\n",
        "\"Poland\":2,\n",
        "\"Taiwan\":2,\n",
        "\"Trinadad&Tobago\":2,\n",
        "\"Portugal\":2,\n",
        "\"Hungary\":2, \n",
        "\n",
        "\"China\": 3,\n",
        "\"Dominican-Republic\":3,\n",
        "\"Thailand\":3,\n",
        "\"Mexico\":3,\n",
        "\n",
        "\"Honduras\":4,\n",
        "\"India\":4,\n",
        "\"Vietnam\":4,\n",
        "\"Guatemala\":4,\n",
        "\"Iran\":4,\n",
        "\"Laos\":4,\n",
        "\"Philippines\":4,\n",
        "\"Haiti\":4,\n",
        "\"Cuba\":4,\n",
        "\"Jamaica\":4,\n",
        "\"Peru\":4,\n",
        "\"Cambodia\":4,\n",
        "\"Yugoslavia\":4,\n",
        "\"El-Salvador\":4,\n",
        "\"Columbia\":4,\n",
        "\"Ecuador\":4,\n",
        "\"South\":4,\n",
        "\"Puerto-Rico\":4,\n",
        "\"Nicaragua\":4,\n",
        "\"?\":4\n",
        "\n",
        "\n",
        "}"
      ],
      "metadata": {
        "id": "Mqn7QPIrDyE8"
      },
      "execution_count": null,
      "outputs": []
    },
    {
      "cell_type": "code",
      "source": [
        "for dataset in combine:\n",
        "\n",
        "    dataset['sex'] = dataset['sex'].fillna(\"Male\")\n",
        "    dataset['marital.status'] = dataset['marital.status'].fillna(\"Married-civ-spouse\")\n",
        "    dataset['education'] = dataset['education'].fillna(\"HS-grad\")\n",
        "    dataset[\"workclass\"] = dataset[\"workclass\"].fillna(\"Private\")\n",
        "    dataset[\"occupation\"] =dataset[\"occupation\"].fillna(\"Prof-specialty\")\n",
        "    dataset[\"native.country\"] =dataset[\"native.country\"].fillna(\"United-States\")\n",
        "    dataset[\"race\"] =dataset[\"race\"].fillna(\"White\")\n",
        "\n",
        "    dataset['sex'] = dataset['sex'].map(sex_mapping)\n",
        "    dataset['native.country'] = dataset['native.country'].map(native_country_mapping)\n",
        "    dataset['marital.status'] = dataset['marital.status'].map(marital_mapping)\n",
        "    dataset['occupation'] = dataset['occupation'].map(occupation_mapping)\n",
        "    dataset['education'] = dataset['education'].map(education_mapping)\n",
        "    dataset['workclass'] = dataset['workclass'].map(workclass_mapping)\n",
        "    dataset['race'] = dataset['race'].map(race_mapping)\n",
        "\n",
        "    \n",
        "train_df.head()\n"
      ],
      "metadata": {
        "colab": {
          "base_uri": "https://localhost:8080/",
          "height": 270
        },
        "id": "p-a605tmIvqQ",
        "outputId": "a2b9773a-8531-4351-db39-bfec3b02087d"
      },
      "execution_count": null,
      "outputs": [
        {
          "output_type": "execute_result",
          "data": {
            "text/plain": [
              "   age  workclass  fnlwgt  education  education.num  marital.status  \\\n",
              "0   53          1   93449          1             15               1   \n",
              "1   33          1  123424          2             13               1   \n",
              "2   47          3  144844          3              9               1   \n",
              "3   40          3  114580          3              9               2   \n",
              "4   39          3  115618          3              9               1   \n",
              "\n",
              "   occupation    relationship  race  sex  capital.gain  capital.loss  \\\n",
              "0           1         Husband     3    1             0             0   \n",
              "1           2         Husband     1    1             0             0   \n",
              "2           9         Husband     1    1             0             0   \n",
              "3           9  Other-relative     1    2             0             0   \n",
              "4           3         Husband     1    1             0             0   \n",
              "\n",
              "   hours.per.week  native.country  income>50K  \n",
              "0              40               4           1  \n",
              "1              40               1           1  \n",
              "2              40               1           0  \n",
              "3              40               4           0  \n",
              "4              50               1           0  "
            ],
            "text/html": [
              "\n",
              "  <div id=\"df-81a534a3-fb73-4efe-93d7-e57b77d21687\">\n",
              "    <div class=\"colab-df-container\">\n",
              "      <div>\n",
              "<style scoped>\n",
              "    .dataframe tbody tr th:only-of-type {\n",
              "        vertical-align: middle;\n",
              "    }\n",
              "\n",
              "    .dataframe tbody tr th {\n",
              "        vertical-align: top;\n",
              "    }\n",
              "\n",
              "    .dataframe thead th {\n",
              "        text-align: right;\n",
              "    }\n",
              "</style>\n",
              "<table border=\"1\" class=\"dataframe\">\n",
              "  <thead>\n",
              "    <tr style=\"text-align: right;\">\n",
              "      <th></th>\n",
              "      <th>age</th>\n",
              "      <th>workclass</th>\n",
              "      <th>fnlwgt</th>\n",
              "      <th>education</th>\n",
              "      <th>education.num</th>\n",
              "      <th>marital.status</th>\n",
              "      <th>occupation</th>\n",
              "      <th>relationship</th>\n",
              "      <th>race</th>\n",
              "      <th>sex</th>\n",
              "      <th>capital.gain</th>\n",
              "      <th>capital.loss</th>\n",
              "      <th>hours.per.week</th>\n",
              "      <th>native.country</th>\n",
              "      <th>income&gt;50K</th>\n",
              "    </tr>\n",
              "  </thead>\n",
              "  <tbody>\n",
              "    <tr>\n",
              "      <th>0</th>\n",
              "      <td>53</td>\n",
              "      <td>1</td>\n",
              "      <td>93449</td>\n",
              "      <td>1</td>\n",
              "      <td>15</td>\n",
              "      <td>1</td>\n",
              "      <td>1</td>\n",
              "      <td>Husband</td>\n",
              "      <td>3</td>\n",
              "      <td>1</td>\n",
              "      <td>0</td>\n",
              "      <td>0</td>\n",
              "      <td>40</td>\n",
              "      <td>4</td>\n",
              "      <td>1</td>\n",
              "    </tr>\n",
              "    <tr>\n",
              "      <th>1</th>\n",
              "      <td>33</td>\n",
              "      <td>1</td>\n",
              "      <td>123424</td>\n",
              "      <td>2</td>\n",
              "      <td>13</td>\n",
              "      <td>1</td>\n",
              "      <td>2</td>\n",
              "      <td>Husband</td>\n",
              "      <td>1</td>\n",
              "      <td>1</td>\n",
              "      <td>0</td>\n",
              "      <td>0</td>\n",
              "      <td>40</td>\n",
              "      <td>1</td>\n",
              "      <td>1</td>\n",
              "    </tr>\n",
              "    <tr>\n",
              "      <th>2</th>\n",
              "      <td>47</td>\n",
              "      <td>3</td>\n",
              "      <td>144844</td>\n",
              "      <td>3</td>\n",
              "      <td>9</td>\n",
              "      <td>1</td>\n",
              "      <td>9</td>\n",
              "      <td>Husband</td>\n",
              "      <td>1</td>\n",
              "      <td>1</td>\n",
              "      <td>0</td>\n",
              "      <td>0</td>\n",
              "      <td>40</td>\n",
              "      <td>1</td>\n",
              "      <td>0</td>\n",
              "    </tr>\n",
              "    <tr>\n",
              "      <th>3</th>\n",
              "      <td>40</td>\n",
              "      <td>3</td>\n",
              "      <td>114580</td>\n",
              "      <td>3</td>\n",
              "      <td>9</td>\n",
              "      <td>2</td>\n",
              "      <td>9</td>\n",
              "      <td>Other-relative</td>\n",
              "      <td>1</td>\n",
              "      <td>2</td>\n",
              "      <td>0</td>\n",
              "      <td>0</td>\n",
              "      <td>40</td>\n",
              "      <td>4</td>\n",
              "      <td>0</td>\n",
              "    </tr>\n",
              "    <tr>\n",
              "      <th>4</th>\n",
              "      <td>39</td>\n",
              "      <td>3</td>\n",
              "      <td>115618</td>\n",
              "      <td>3</td>\n",
              "      <td>9</td>\n",
              "      <td>1</td>\n",
              "      <td>3</td>\n",
              "      <td>Husband</td>\n",
              "      <td>1</td>\n",
              "      <td>1</td>\n",
              "      <td>0</td>\n",
              "      <td>0</td>\n",
              "      <td>50</td>\n",
              "      <td>1</td>\n",
              "      <td>0</td>\n",
              "    </tr>\n",
              "  </tbody>\n",
              "</table>\n",
              "</div>\n",
              "      <button class=\"colab-df-convert\" onclick=\"convertToInteractive('df-81a534a3-fb73-4efe-93d7-e57b77d21687')\"\n",
              "              title=\"Convert this dataframe to an interactive table.\"\n",
              "              style=\"display:none;\">\n",
              "        \n",
              "  <svg xmlns=\"http://www.w3.org/2000/svg\" height=\"24px\"viewBox=\"0 0 24 24\"\n",
              "       width=\"24px\">\n",
              "    <path d=\"M0 0h24v24H0V0z\" fill=\"none\"/>\n",
              "    <path d=\"M18.56 5.44l.94 2.06.94-2.06 2.06-.94-2.06-.94-.94-2.06-.94 2.06-2.06.94zm-11 1L8.5 8.5l.94-2.06 2.06-.94-2.06-.94L8.5 2.5l-.94 2.06-2.06.94zm10 10l.94 2.06.94-2.06 2.06-.94-2.06-.94-.94-2.06-.94 2.06-2.06.94z\"/><path d=\"M17.41 7.96l-1.37-1.37c-.4-.4-.92-.59-1.43-.59-.52 0-1.04.2-1.43.59L10.3 9.45l-7.72 7.72c-.78.78-.78 2.05 0 2.83L4 21.41c.39.39.9.59 1.41.59.51 0 1.02-.2 1.41-.59l7.78-7.78 2.81-2.81c.8-.78.8-2.07 0-2.86zM5.41 20L4 18.59l7.72-7.72 1.47 1.35L5.41 20z\"/>\n",
              "  </svg>\n",
              "      </button>\n",
              "      \n",
              "  <style>\n",
              "    .colab-df-container {\n",
              "      display:flex;\n",
              "      flex-wrap:wrap;\n",
              "      gap: 12px;\n",
              "    }\n",
              "\n",
              "    .colab-df-convert {\n",
              "      background-color: #E8F0FE;\n",
              "      border: none;\n",
              "      border-radius: 50%;\n",
              "      cursor: pointer;\n",
              "      display: none;\n",
              "      fill: #1967D2;\n",
              "      height: 32px;\n",
              "      padding: 0 0 0 0;\n",
              "      width: 32px;\n",
              "    }\n",
              "\n",
              "    .colab-df-convert:hover {\n",
              "      background-color: #E2EBFA;\n",
              "      box-shadow: 0px 1px 2px rgba(60, 64, 67, 0.3), 0px 1px 3px 1px rgba(60, 64, 67, 0.15);\n",
              "      fill: #174EA6;\n",
              "    }\n",
              "\n",
              "    [theme=dark] .colab-df-convert {\n",
              "      background-color: #3B4455;\n",
              "      fill: #D2E3FC;\n",
              "    }\n",
              "\n",
              "    [theme=dark] .colab-df-convert:hover {\n",
              "      background-color: #434B5C;\n",
              "      box-shadow: 0px 1px 3px 1px rgba(0, 0, 0, 0.15);\n",
              "      filter: drop-shadow(0px 1px 2px rgba(0, 0, 0, 0.3));\n",
              "      fill: #FFFFFF;\n",
              "    }\n",
              "  </style>\n",
              "\n",
              "      <script>\n",
              "        const buttonEl =\n",
              "          document.querySelector('#df-81a534a3-fb73-4efe-93d7-e57b77d21687 button.colab-df-convert');\n",
              "        buttonEl.style.display =\n",
              "          google.colab.kernel.accessAllowed ? 'block' : 'none';\n",
              "\n",
              "        async function convertToInteractive(key) {\n",
              "          const element = document.querySelector('#df-81a534a3-fb73-4efe-93d7-e57b77d21687');\n",
              "          const dataTable =\n",
              "            await google.colab.kernel.invokeFunction('convertToInteractive',\n",
              "                                                     [key], {});\n",
              "          if (!dataTable) return;\n",
              "\n",
              "          const docLinkHtml = 'Like what you see? Visit the ' +\n",
              "            '<a target=\"_blank\" href=https://colab.research.google.com/notebooks/data_table.ipynb>data table notebook</a>'\n",
              "            + ' to learn more about interactive tables.';\n",
              "          element.innerHTML = '';\n",
              "          dataTable['output_type'] = 'display_data';\n",
              "          await google.colab.output.renderOutput(dataTable, element);\n",
              "          const docLink = document.createElement('div');\n",
              "          docLink.innerHTML = docLinkHtml;\n",
              "          element.appendChild(docLink);\n",
              "        }\n",
              "      </script>\n",
              "    </div>\n",
              "  </div>\n",
              "  "
            ]
          },
          "metadata": {},
          "execution_count": 27
        }
      ]
    },
    {
      "cell_type": "markdown",
      "source": [
        "## Mapping countious variable"
      ],
      "metadata": {
        "id": "MTG0LjpaKWCs"
      }
    },
    {
      "cell_type": "code",
      "source": [
        "from sklearn.preprocessing import StandardScaler\n",
        "scaler = StandardScaler()\n",
        "for dataset in combine:\n",
        "  dataset['net.capital'] = dataset['capital.gain'].astype(float) + dataset['capital.loss'].astype(float)\n",
        "  dataset['net.capital'] = scaler.fit(dataset['net.capital'].values.reshape(-1,1)).transform(dataset['net.capital'].values.reshape(-1,1))\n",
        "  dataset['age'] = scaler.fit(dataset['age'].values.reshape(-1,1)).transform(dataset['age'].values.reshape(-1,1))\n",
        "  #dataset['education.num'] = scaler.fit(dataset['education.num'].values.reshape(-1,1)).transform(dataset['education.num'].values.reshape(-1,1))\n",
        "  dataset['hours.per.week'] = scaler.fit(dataset['hours.per.week'].values.reshape(-1,1)).transform(dataset['hours.per.week'].values.reshape(-1,1))\n",
        "  dataset['fnlwgt'] = dataset['fnlwgt'].apply(lambda x: np.log1p(x))\n",
        "\n",
        "train_df = train_df.drop(['capital.gain','capital.loss','relationship'],axis=1)\n",
        "test_df = test_df.drop(['capital.gain','capital.loss','relationship'],axis=1)\n",
        "\n",
        "\n"
      ],
      "metadata": {
        "id": "bAsWlaMoM4Br"
      },
      "execution_count": null,
      "outputs": []
    },
    {
      "cell_type": "code",
      "source": [
        "\n",
        "train_df.head()"
      ],
      "metadata": {
        "colab": {
          "base_uri": "https://localhost:8080/",
          "height": 270
        },
        "id": "L1wMLS1p5R26",
        "outputId": "931d8a1b-1c4d-41aa-c5f7-96b57c6d9a42"
      },
      "execution_count": null,
      "outputs": [
        {
          "output_type": "execute_result",
          "data": {
            "text/plain": [
              "        age  workclass     fnlwgt  education  education.num  marital.status  \\\n",
              "0  1.042815          1  11.445182          1             15               1   \n",
              "1 -0.415003          1  11.723389          2             13               1   \n",
              "2  0.605470          3  11.883419          3              9               1   \n",
              "3  0.095233          3  11.649037          3              9               2   \n",
              "4  0.022343          3  11.658056          3              9               1   \n",
              "\n",
              "   occupation  race  sex  hours.per.week  native.country  income>50K  \\\n",
              "0           1     3    1       -0.042502               4           1   \n",
              "1           2     1    1       -0.042502               1           1   \n",
              "2           9     1    1       -0.042502               1           0   \n",
              "3           9     1    2       -0.042502               4           0   \n",
              "4           3     1    1        0.763076               1           0   \n",
              "\n",
              "   net.capital  \n",
              "0    -0.158595  \n",
              "1    -0.158595  \n",
              "2    -0.158595  \n",
              "3    -0.158595  \n",
              "4    -0.158595  "
            ],
            "text/html": [
              "\n",
              "  <div id=\"df-0fc18be8-f299-4e3a-b19c-bd63eb8cb160\">\n",
              "    <div class=\"colab-df-container\">\n",
              "      <div>\n",
              "<style scoped>\n",
              "    .dataframe tbody tr th:only-of-type {\n",
              "        vertical-align: middle;\n",
              "    }\n",
              "\n",
              "    .dataframe tbody tr th {\n",
              "        vertical-align: top;\n",
              "    }\n",
              "\n",
              "    .dataframe thead th {\n",
              "        text-align: right;\n",
              "    }\n",
              "</style>\n",
              "<table border=\"1\" class=\"dataframe\">\n",
              "  <thead>\n",
              "    <tr style=\"text-align: right;\">\n",
              "      <th></th>\n",
              "      <th>age</th>\n",
              "      <th>workclass</th>\n",
              "      <th>fnlwgt</th>\n",
              "      <th>education</th>\n",
              "      <th>education.num</th>\n",
              "      <th>marital.status</th>\n",
              "      <th>occupation</th>\n",
              "      <th>race</th>\n",
              "      <th>sex</th>\n",
              "      <th>hours.per.week</th>\n",
              "      <th>native.country</th>\n",
              "      <th>income&gt;50K</th>\n",
              "      <th>net.capital</th>\n",
              "    </tr>\n",
              "  </thead>\n",
              "  <tbody>\n",
              "    <tr>\n",
              "      <th>0</th>\n",
              "      <td>1.042815</td>\n",
              "      <td>1</td>\n",
              "      <td>11.445182</td>\n",
              "      <td>1</td>\n",
              "      <td>15</td>\n",
              "      <td>1</td>\n",
              "      <td>1</td>\n",
              "      <td>3</td>\n",
              "      <td>1</td>\n",
              "      <td>-0.042502</td>\n",
              "      <td>4</td>\n",
              "      <td>1</td>\n",
              "      <td>-0.158595</td>\n",
              "    </tr>\n",
              "    <tr>\n",
              "      <th>1</th>\n",
              "      <td>-0.415003</td>\n",
              "      <td>1</td>\n",
              "      <td>11.723389</td>\n",
              "      <td>2</td>\n",
              "      <td>13</td>\n",
              "      <td>1</td>\n",
              "      <td>2</td>\n",
              "      <td>1</td>\n",
              "      <td>1</td>\n",
              "      <td>-0.042502</td>\n",
              "      <td>1</td>\n",
              "      <td>1</td>\n",
              "      <td>-0.158595</td>\n",
              "    </tr>\n",
              "    <tr>\n",
              "      <th>2</th>\n",
              "      <td>0.605470</td>\n",
              "      <td>3</td>\n",
              "      <td>11.883419</td>\n",
              "      <td>3</td>\n",
              "      <td>9</td>\n",
              "      <td>1</td>\n",
              "      <td>9</td>\n",
              "      <td>1</td>\n",
              "      <td>1</td>\n",
              "      <td>-0.042502</td>\n",
              "      <td>1</td>\n",
              "      <td>0</td>\n",
              "      <td>-0.158595</td>\n",
              "    </tr>\n",
              "    <tr>\n",
              "      <th>3</th>\n",
              "      <td>0.095233</td>\n",
              "      <td>3</td>\n",
              "      <td>11.649037</td>\n",
              "      <td>3</td>\n",
              "      <td>9</td>\n",
              "      <td>2</td>\n",
              "      <td>9</td>\n",
              "      <td>1</td>\n",
              "      <td>2</td>\n",
              "      <td>-0.042502</td>\n",
              "      <td>4</td>\n",
              "      <td>0</td>\n",
              "      <td>-0.158595</td>\n",
              "    </tr>\n",
              "    <tr>\n",
              "      <th>4</th>\n",
              "      <td>0.022343</td>\n",
              "      <td>3</td>\n",
              "      <td>11.658056</td>\n",
              "      <td>3</td>\n",
              "      <td>9</td>\n",
              "      <td>1</td>\n",
              "      <td>3</td>\n",
              "      <td>1</td>\n",
              "      <td>1</td>\n",
              "      <td>0.763076</td>\n",
              "      <td>1</td>\n",
              "      <td>0</td>\n",
              "      <td>-0.158595</td>\n",
              "    </tr>\n",
              "  </tbody>\n",
              "</table>\n",
              "</div>\n",
              "      <button class=\"colab-df-convert\" onclick=\"convertToInteractive('df-0fc18be8-f299-4e3a-b19c-bd63eb8cb160')\"\n",
              "              title=\"Convert this dataframe to an interactive table.\"\n",
              "              style=\"display:none;\">\n",
              "        \n",
              "  <svg xmlns=\"http://www.w3.org/2000/svg\" height=\"24px\"viewBox=\"0 0 24 24\"\n",
              "       width=\"24px\">\n",
              "    <path d=\"M0 0h24v24H0V0z\" fill=\"none\"/>\n",
              "    <path d=\"M18.56 5.44l.94 2.06.94-2.06 2.06-.94-2.06-.94-.94-2.06-.94 2.06-2.06.94zm-11 1L8.5 8.5l.94-2.06 2.06-.94-2.06-.94L8.5 2.5l-.94 2.06-2.06.94zm10 10l.94 2.06.94-2.06 2.06-.94-2.06-.94-.94-2.06-.94 2.06-2.06.94z\"/><path d=\"M17.41 7.96l-1.37-1.37c-.4-.4-.92-.59-1.43-.59-.52 0-1.04.2-1.43.59L10.3 9.45l-7.72 7.72c-.78.78-.78 2.05 0 2.83L4 21.41c.39.39.9.59 1.41.59.51 0 1.02-.2 1.41-.59l7.78-7.78 2.81-2.81c.8-.78.8-2.07 0-2.86zM5.41 20L4 18.59l7.72-7.72 1.47 1.35L5.41 20z\"/>\n",
              "  </svg>\n",
              "      </button>\n",
              "      \n",
              "  <style>\n",
              "    .colab-df-container {\n",
              "      display:flex;\n",
              "      flex-wrap:wrap;\n",
              "      gap: 12px;\n",
              "    }\n",
              "\n",
              "    .colab-df-convert {\n",
              "      background-color: #E8F0FE;\n",
              "      border: none;\n",
              "      border-radius: 50%;\n",
              "      cursor: pointer;\n",
              "      display: none;\n",
              "      fill: #1967D2;\n",
              "      height: 32px;\n",
              "      padding: 0 0 0 0;\n",
              "      width: 32px;\n",
              "    }\n",
              "\n",
              "    .colab-df-convert:hover {\n",
              "      background-color: #E2EBFA;\n",
              "      box-shadow: 0px 1px 2px rgba(60, 64, 67, 0.3), 0px 1px 3px 1px rgba(60, 64, 67, 0.15);\n",
              "      fill: #174EA6;\n",
              "    }\n",
              "\n",
              "    [theme=dark] .colab-df-convert {\n",
              "      background-color: #3B4455;\n",
              "      fill: #D2E3FC;\n",
              "    }\n",
              "\n",
              "    [theme=dark] .colab-df-convert:hover {\n",
              "      background-color: #434B5C;\n",
              "      box-shadow: 0px 1px 3px 1px rgba(0, 0, 0, 0.15);\n",
              "      filter: drop-shadow(0px 1px 2px rgba(0, 0, 0, 0.3));\n",
              "      fill: #FFFFFF;\n",
              "    }\n",
              "  </style>\n",
              "\n",
              "      <script>\n",
              "        const buttonEl =\n",
              "          document.querySelector('#df-0fc18be8-f299-4e3a-b19c-bd63eb8cb160 button.colab-df-convert');\n",
              "        buttonEl.style.display =\n",
              "          google.colab.kernel.accessAllowed ? 'block' : 'none';\n",
              "\n",
              "        async function convertToInteractive(key) {\n",
              "          const element = document.querySelector('#df-0fc18be8-f299-4e3a-b19c-bd63eb8cb160');\n",
              "          const dataTable =\n",
              "            await google.colab.kernel.invokeFunction('convertToInteractive',\n",
              "                                                     [key], {});\n",
              "          if (!dataTable) return;\n",
              "\n",
              "          const docLinkHtml = 'Like what you see? Visit the ' +\n",
              "            '<a target=\"_blank\" href=https://colab.research.google.com/notebooks/data_table.ipynb>data table notebook</a>'\n",
              "            + ' to learn more about interactive tables.';\n",
              "          element.innerHTML = '';\n",
              "          dataTable['output_type'] = 'display_data';\n",
              "          await google.colab.output.renderOutput(dataTable, element);\n",
              "          const docLink = document.createElement('div');\n",
              "          docLink.innerHTML = docLinkHtml;\n",
              "          element.appendChild(docLink);\n",
              "        }\n",
              "      </script>\n",
              "    </div>\n",
              "  </div>\n",
              "  "
            ]
          },
          "metadata": {},
          "execution_count": 29
        }
      ]
    },
    {
      "cell_type": "code",
      "source": [
        "def submit(pred):\n",
        "  submission = pd.DataFrame({\n",
        "        \"ID\": test_df[\"ID\"],\n",
        "        \"Prediction\": pred\n",
        "    })\n",
        "  submission.to_csv('submission.csv', index=False)"
      ],
      "metadata": {
        "id": "cHPgbrSOKY2K"
      },
      "execution_count": null,
      "outputs": []
    },
    {
      "cell_type": "markdown",
      "source": [
        "## Apply machine learning models"
      ],
      "metadata": {
        "id": "9Lufz3ipepBI"
      }
    },
    {
      "cell_type": "code",
      "source": [
        "X_train = train_df.drop(\"income>50K\", axis=1)\n",
        "Y_train = train_df[\"income>50K\"]\n",
        "\n",
        "X_test  = test_df.drop(\"ID\", axis=1).copy()\n",
        "X_train.shape, Y_train.shape, X_test.shape\n",
        "\n",
        "X_test =X_test.fillna(1)"
      ],
      "metadata": {
        "id": "MyYFs7R-erPJ"
      },
      "execution_count": null,
      "outputs": []
    },
    {
      "cell_type": "markdown",
      "source": [
        "## Other machine learning models"
      ],
      "metadata": {
        "id": "3zChvkW1K95O"
      }
    },
    {
      "cell_type": "code",
      "source": [
        "gbt = GradientBoostingClassifier(n_estimators=200,learning_rate=0.1,max_depth=5)\n",
        "gbt.fit(X_train, Y_train)"
      ],
      "metadata": {
        "colab": {
          "base_uri": "https://localhost:8080/"
        },
        "id": "-4JP9nLs6Ai-",
        "outputId": "44dd7d91-2b16-485d-bce7-8cc754b5e08d"
      },
      "execution_count": null,
      "outputs": [
        {
          "output_type": "execute_result",
          "data": {
            "text/plain": [
              "GradientBoostingClassifier(max_depth=5, n_estimators=200)"
            ]
          },
          "metadata": {},
          "execution_count": 32
        }
      ]
    },
    {
      "cell_type": "code",
      "source": [
        "prediction = gbt.predict_proba(X_test)[:,1]\n",
        "new_test_data = pd.read_csv(\"test_final.csv\")\n",
        "idx=new_test_data.iloc[:,0].to_numpy()\n",
        "submissions = pd.DataFrame({'ID':idx, 'Prediction':prediction})\n",
        "submit(prediction)"
      ],
      "metadata": {
        "id": "vB7YKbdQDOrL"
      },
      "execution_count": null,
      "outputs": []
    },
    {
      "cell_type": "code",
      "source": [
        "prediction\n"
      ],
      "metadata": {
        "colab": {
          "base_uri": "https://localhost:8080/"
        },
        "id": "_9GSZkGx7PKg",
        "outputId": "1b1a600a-632b-490e-c199-829c97f9b165"
      },
      "execution_count": null,
      "outputs": [
        {
          "output_type": "execute_result",
          "data": {
            "text/plain": [
              "array([0.16271546, 0.03331402, 0.15018692, ..., 0.99115375, 0.17693543,\n",
              "       0.02183909])"
            ]
          },
          "metadata": {},
          "execution_count": 35
        }
      ]
    },
    {
      "cell_type": "code",
      "source": [
        "np.any(np.isnan(X_test))"
      ],
      "metadata": {
        "colab": {
          "base_uri": "https://localhost:8080/"
        },
        "id": "8uOZ-6YX89Jy",
        "outputId": "12d347bb-d713-43ea-e4fa-378f379968b2"
      },
      "execution_count": null,
      "outputs": [
        {
          "output_type": "execute_result",
          "data": {
            "text/plain": [
              "False"
            ]
          },
          "metadata": {},
          "execution_count": 38
        }
      ]
    },
    {
      "cell_type": "code",
      "source": [
        "\n",
        "# Logistic regression\n",
        "logreg = LogisticRegression()\n",
        "logreg.fit(X_train, Y_train)\n",
        "Y_pred = logreg.predict(X_test)\n",
        "acc_log = round(logreg.score(X_train, Y_train) * 100, 2)\n",
        "print(acc_log)\n"
      ],
      "metadata": {
        "colab": {
          "base_uri": "https://localhost:8080/"
        },
        "id": "yKUzwbF7fQH9",
        "outputId": "42cd34cf-8318-446f-ec69-a979122a5a41"
      },
      "execution_count": null,
      "outputs": [
        {
          "output_type": "stream",
          "name": "stdout",
          "text": [
            "83.94\n"
          ]
        },
        {
          "output_type": "stream",
          "name": "stderr",
          "text": [
            "/usr/local/lib/python3.8/dist-packages/sklearn/linear_model/_logistic.py:814: ConvergenceWarning: lbfgs failed to converge (status=1):\n",
            "STOP: TOTAL NO. of ITERATIONS REACHED LIMIT.\n",
            "\n",
            "Increase the number of iterations (max_iter) or scale the data as shown in:\n",
            "    https://scikit-learn.org/stable/modules/preprocessing.html\n",
            "Please also refer to the documentation for alternative solver options:\n",
            "    https://scikit-learn.org/stable/modules/linear_model.html#logistic-regression\n",
            "  n_iter_i = _check_optimize_result(\n"
          ]
        }
      ]
    },
    {
      "cell_type": "code",
      "source": [
        "# Support Vector Machines\n",
        "svc = SVC()\n",
        "svc.fit(X_train, Y_train)\n",
        "Y_pred = svc.predict(X_test)\n",
        "acc_svc = round(svc.score(X_train, Y_train) * 100, 2)\n",
        "print(acc_svc)\n"
      ],
      "metadata": {
        "colab": {
          "base_uri": "https://localhost:8080/"
        },
        "id": "jNnJhowFkquG",
        "outputId": "e5875bca-95b5-4e8a-e0cc-a1095968f6f3"
      },
      "execution_count": null,
      "outputs": [
        {
          "output_type": "stream",
          "name": "stdout",
          "text": [
            "84.29\n"
          ]
        }
      ]
    },
    {
      "cell_type": "code",
      "source": [
        "\n",
        "# best neighbor=9\n",
        "knn = KNeighborsClassifier(n_neighbors = 9)\n",
        "knn.fit(X_train, Y_train)\n",
        "acc_knn = round(knn.score(X_train, Y_train) * 100, 2)\n",
        "print(\"k neighbor：\",acc_knn)\n",
        "\n"
      ],
      "metadata": {
        "colab": {
          "base_uri": "https://localhost:8080/"
        },
        "id": "dWN0Hxn4ktBa",
        "outputId": "02c2d10e-8b2f-4913-9ec5-9b912e67a078"
      },
      "execution_count": null,
      "outputs": [
        {
          "output_type": "stream",
          "name": "stdout",
          "text": [
            "k neighbor： 86.39\n"
          ]
        }
      ]
    },
    {
      "cell_type": "code",
      "source": [
        "# Gaussian Naive Bayes\n",
        "gaussian = GaussianNB()\n",
        "gaussian.fit(X_train, Y_train)\n",
        "Y_pred = gaussian.predict(X_test)\n",
        "acc_gaussian = round(gaussian.score(X_train, Y_train) * 100, 2)\n",
        "print(acc_gaussian)\n",
        "\n"
      ],
      "metadata": {
        "colab": {
          "base_uri": "https://localhost:8080/"
        },
        "id": "MrlosMzukvey",
        "outputId": "bb994fd3-f46e-4ff3-d129-bf3438bd1fc9"
      },
      "execution_count": null,
      "outputs": [
        {
          "output_type": "stream",
          "name": "stdout",
          "text": [
            "82.16\n"
          ]
        }
      ]
    },
    {
      "cell_type": "code",
      "source": [
        "# Linear SVC\n",
        "\n",
        "linear_svc = LinearSVC()\n",
        "linear_svc.fit(X_train, Y_train)\n",
        "Y_pred = linear_svc.predict(X_test)\n",
        "acc_linear_svc = round(linear_svc.score(X_train, Y_train) * 100, 2)\n",
        "print(acc_linear_svc)\n",
        "\n"
      ],
      "metadata": {
        "colab": {
          "base_uri": "https://localhost:8080/"
        },
        "id": "Oojv0lJlkwiU",
        "outputId": "2beea318-070c-49bf-dad6-f07462bb3fa3"
      },
      "execution_count": null,
      "outputs": [
        {
          "output_type": "stream",
          "name": "stdout",
          "text": [
            "83.22\n"
          ]
        },
        {
          "output_type": "stream",
          "name": "stderr",
          "text": [
            "/usr/local/lib/python3.8/dist-packages/sklearn/svm/_base.py:1206: ConvergenceWarning: Liblinear failed to converge, increase the number of iterations.\n",
            "  warnings.warn(\n"
          ]
        }
      ]
    },
    {
      "cell_type": "code",
      "source": [
        "# Stochastic Gradient Descent\n",
        "\n",
        "sgd = SGDClassifier()\n",
        "sgd.fit(X_train, Y_train)\n",
        "Y_pred = sgd.predict(X_test)\n",
        "acc_sgd = round(sgd.score(X_train, Y_train) * 100, 2)\n",
        "print(acc_sgd)"
      ],
      "metadata": {
        "colab": {
          "base_uri": "https://localhost:8080/"
        },
        "id": "MaSko-eGkyP9",
        "outputId": "c0e3ec2b-6cdb-4934-f5c3-24b4b2509c7a"
      },
      "execution_count": null,
      "outputs": [
        {
          "output_type": "stream",
          "name": "stdout",
          "text": [
            "82.24\n"
          ]
        }
      ]
    },
    {
      "cell_type": "markdown",
      "source": [
        "## Random forest and decision tree"
      ],
      "metadata": {
        "id": "ex4TAEs9LYup"
      }
    },
    {
      "cell_type": "code",
      "source": [
        "# Random Forest\n",
        "# best maxp_depth = 12\n",
        "for i in range(3,20):\n",
        "  random_forest = RandomForestClassifier(n_estimators=120,max_depth=i,min_samples_split = 7,min_samples_leaf=3,\n",
        "                                          oob_score = True)\n",
        "  random_forest.fit(X_train, Y_train)\n",
        "  Y_pred = random_forest.predict(X_test)\n",
        "  submit(Y_pred)\n",
        "  random_forest.score(X_train, Y_train)\n",
        "  acc_random_forest = round(random_forest.score(X_train, Y_train) * 100, 2)\n",
        "\n",
        "  print(\"depth：\",i,acc_random_forest)"
      ],
      "metadata": {
        "id": "MIFowZf4h52r",
        "colab": {
          "base_uri": "https://localhost:8080/"
        },
        "outputId": "f3d7be6f-d297-43a8-bf0a-8a71ec8cee80"
      },
      "execution_count": null,
      "outputs": [
        {
          "output_type": "stream",
          "name": "stdout",
          "text": [
            "depth： 3 84.04\n",
            "depth： 4 84.64\n",
            "depth： 5 84.84\n",
            "depth： 6 85.34\n",
            "depth： 7 85.58\n",
            "depth： 8 85.96\n",
            "depth： 9 86.62\n",
            "depth： 10 87.18\n",
            "depth： 11 87.84\n",
            "depth： 12 88.26\n",
            "depth： 13 88.79\n",
            "depth： 14 89.27\n",
            "depth： 15 89.65\n",
            "depth： 16 90.13\n",
            "depth： 17 90.5\n",
            "depth： 18 90.76\n",
            "depth： 19 91.04\n"
          ]
        }
      ]
    },
    {
      "cell_type": "code",
      "source": [
        "# Decision Tree\n",
        "# Best max depth = 9\n",
        "for i in range(1,10):\n",
        "\n",
        "  decision_tree = DecisionTreeClassifier(max_depth=i)\n",
        "  decision_tree.fit(X_train, Y_train)\n",
        "  Y_pred = decision_tree.predict(X_test)\n",
        "  acc_decision_tree = round(decision_tree.score(X_train, Y_train) * 100, 2)\n",
        "  \n",
        "  print(\"depth：\",i,acc_decision_tree)"
      ],
      "metadata": {
        "id": "wPcpnVZgh2ct",
        "colab": {
          "base_uri": "https://localhost:8080/"
        },
        "outputId": "d193c101-eb40-428c-f7db-17f198ca2196"
      },
      "execution_count": null,
      "outputs": [
        {
          "output_type": "stream",
          "name": "stdout",
          "text": [
            "depth： 1 75.94\n",
            "depth： 2 82.78\n",
            "depth： 3 84.36\n",
            "depth： 4 84.6\n",
            "depth： 5 85.02\n",
            "depth： 6 85.1\n",
            "depth： 7 85.9\n",
            "depth： 8 86.42\n",
            "depth： 9 86.96\n"
          ]
        }
      ]
    },
    {
      "cell_type": "markdown",
      "source": [
        "## Final solution Gradient Boosting classifier"
      ],
      "metadata": {
        "id": "wB8Nvw34iAdX"
      }
    },
    {
      "cell_type": "code",
      "source": [
        "#GradientBoostingClassifier\n",
        "from sklearn.ensemble import GradientBoostingClassifier\n",
        "gbt = GradientBoostingClassifier(n_estimators=200,learning_rate=0.1,max_depth=5)\n",
        "gbt.fit(X_train, Y_train)\n",
        "\n",
        "\n",
        "prediction = gbt.predict_proba(X_test)[:,1]\n",
        "new_test_data = pd.read_csv(\"test_final.csv\")\n",
        "idx=new_test_data.iloc[:,0].to_numpy()\n",
        "submissions = pd.DataFrame({'ID':idx, 'Prediction':prediction})\n",
        "submit(prediction)"
      ],
      "metadata": {
        "id": "SGQehEwrh_6U"
      },
      "execution_count": null,
      "outputs": []
    }
  ]
}